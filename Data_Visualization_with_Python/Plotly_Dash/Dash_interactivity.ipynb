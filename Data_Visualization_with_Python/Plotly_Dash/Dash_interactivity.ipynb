{
 "cells": [
  {
   "cell_type": "code",
   "execution_count": 1,
   "id": "f9402e59-f59a-48be-a329-b4e0b9c8af54",
   "metadata": {},
   "outputs": [],
   "source": [
    "import dash\n",
    "import pandas as pd\n",
    "import plotly.graph_objects as go\n",
    "from dash import dcc\n",
    "from dash import html\n",
    "from dash.dependencies import Input, Output"
   ]
  },
  {
   "cell_type": "code",
   "execution_count": 2,
   "id": "039c64e4-10b0-4a17-a32a-b71c8766eef3",
   "metadata": {},
   "outputs": [],
   "source": [
    "airline_data = pd.read_csv(r'DataSets/AirlineAirport.csv')"
   ]
  },
  {
   "cell_type": "code",
   "execution_count": 3,
   "id": "afac2251-11b1-43ca-b49e-ae13dcf26346",
   "metadata": {},
   "outputs": [],
   "source": [
    "# # Create a dash application\n",
    "# app = dash.Dash(__name__)\n",
    "\n",
    "# # Get the layout of the application and adjust it.\n",
    "# # Create an outer division using html.Div and add title to the dashboard using html.H1 component\n",
    "# # Add a html.Div and core input text component\n",
    "# # Finally, add graph component.\n",
    "# app.layout = html.Div(children=[html.H1(),                                html.Div([\"Input Year\", dcc.Input(),], \n",
    "#                                 style={}),\n",
    "#                                 html.Br(),\n",
    "#                                 html.Br(),\n",
    "#                                 html.Div(),\n",
    "#                                 ])"
   ]
  },
  {
   "cell_type": "code",
   "execution_count": 4,
   "id": "6ec4b801-92a8-4900-9577-ec123db3a697",
   "metadata": {},
   "outputs": [],
   "source": [
    "app = dash.Dash(__name__)\n",
    "\n",
    "app.layout = html.Div(children=[html.H1('Airline Dash Interactivity', style={'textAlign':'center', 'color':'#503D36', 'front-size':50}),\n",
    "                                html.Div([\"Input Year: \", dcc.Input(id='input-year', value=2015, type='number', \n",
    "                                                                  style={'height':'40px', 'font-size':40}),], \n",
    "                                style={'font-size':35}),\n",
    "                                html.Br(),\n",
    "                                html.Br(),\n",
    "                                html.Div(dcc.Graph(id='line-plot')),\n",
    "                                ])"
   ]
  },
  {
   "cell_type": "code",
   "execution_count": 5,
   "id": "4963b54f-3840-4c74-8825-c8533a7b8265",
   "metadata": {},
   "outputs": [],
   "source": [
    "# add callback decorator\n",
    "@app.callback(Output(component_id='line-plot', component_property='figure'),\n",
    "               Input(component_id='input-year', component_property='value'))\n",
    "\n",
    "# Add computation to callback function and return graph\n",
    "def get_graph(entered_year):\n",
    "    # Select data based on the entered year\n",
    "    df =  airline_data[airline_data['Year']==int(entered_year)]\n",
    "    \n",
    "    # Group the data by Month and compute average over arrival delay time.\n",
    "    line_data = df.groupby('Month')['ArrDelay'].mean().reset_index()\n",
    "    \n",
    "    # \n",
    "    fig = go.Figure(data=go.Scatter(x=line_data['Month'], y=line_data['ArrDelay'], mode='lines', marker=dict(color='green')))\n",
    "    fig.update_layout(title='Month vs Average Flight Delay Time', xaxis_title='Month', yaxis_title='ArrDelay')\n",
    "    return fig"
   ]
  },
  {
   "cell_type": "code",
   "execution_count": 6,
   "id": "62e4347c-e592-4ab2-88f6-9645af1efada",
   "metadata": {},
   "outputs": [
    {
     "name": "stdout",
     "output_type": "stream",
     "text": [
      "Dash is running on http://127.0.0.1:8050/\n",
      "\n",
      " * Serving Flask app '__main__'\n",
      " * Debug mode: off\n"
     ]
    },
    {
     "name": "stderr",
     "output_type": "stream",
     "text": [
      "WARNING: This is a development server. Do not use it in a production deployment. Use a production WSGI server instead.\n",
      " * Running on http://127.0.0.1:8050\n",
      "Press CTRL+C to quit\n",
      "127.0.0.1 - - [23/Jan/2023 15:14:00] \"GET / HTTP/1.1\" 200 -\n",
      "127.0.0.1 - - [23/Jan/2023 15:14:00] \"GET /_dash-layout HTTP/1.1\" 200 -\n",
      "127.0.0.1 - - [23/Jan/2023 15:14:00] \"GET /_dash-dependencies HTTP/1.1\" 200 -\n",
      "127.0.0.1 - - [23/Jan/2023 15:14:00] \"GET /_dash-component-suites/dash/dcc/async-graph.js HTTP/1.1\" 304 -\n",
      "127.0.0.1 - - [23/Jan/2023 15:14:00] \"GET /_dash-component-suites/dash/dcc/async-plotlyjs.js HTTP/1.1\" 304 -\n",
      "127.0.0.1 - - [23/Jan/2023 15:14:00] \"POST /_dash-update-component HTTP/1.1\" 200 -\n"
     ]
    }
   ],
   "source": [
    "# Run the app\n",
    "if __name__ == '__main__':\n",
    "    app.run_server()"
   ]
  },
  {
   "cell_type": "code",
   "execution_count": 4,
   "id": "66a51622-fc4e-4827-8783-fe4dfb4fcccb",
   "metadata": {},
   "outputs": [
    {
     "name": "stdout",
     "output_type": "stream",
     "text": [
      "Dash is running on http://127.0.0.1:8050/\n",
      "\n",
      " * Serving Flask app 'Dash_interactivity'\n",
      " * Debug mode: off\n"
     ]
    },
    {
     "name": "stderr",
     "output_type": "stream",
     "text": [
      "WARNING: This is a development server. Do not use it in a production deployment. Use a production WSGI server instead.\n",
      " * Running on http://127.0.0.1:8050\n",
      "Press CTRL+C to quit\n",
      "127.0.0.1 - - [23/Jan/2023 15:05:32] \"GET / HTTP/1.1\" 200 -\n",
      "127.0.0.1 - - [23/Jan/2023 15:05:32] \"GET /_dash-layout HTTP/1.1\" 200 -\n",
      "127.0.0.1 - - [23/Jan/2023 15:05:32] \"GET /_dash-dependencies HTTP/1.1\" 200 -\n",
      "127.0.0.1 - - [23/Jan/2023 15:05:32] \"GET /_dash-component-suites/dash/dcc/async-graph.js HTTP/1.1\" 304 -\n",
      "127.0.0.1 - - [23/Jan/2023 15:05:32] \"GET /_dash-component-suites/dash/dcc/async-plotlyjs.js HTTP/1.1\" 304 -\n",
      "127.0.0.1 - - [23/Jan/2023 15:05:32] \"GET /_favicon.ico?v=2.7.1 HTTP/1.1\" 200 -\n",
      "127.0.0.1 - - [23/Jan/2023 15:05:32] \"POST /_dash-update-component HTTP/1.1\" 200 -\n",
      "127.0.0.1 - - [23/Jan/2023 15:05:35] \"POST /_dash-update-component HTTP/1.1\" 200 -\n",
      "127.0.0.1 - - [23/Jan/2023 15:05:35] \"POST /_dash-update-component HTTP/1.1\" 200 -\n",
      "127.0.0.1 - - [23/Jan/2023 15:05:37] \"POST /_dash-update-component HTTP/1.1\" 200 -\n",
      "127.0.0.1 - - [23/Jan/2023 15:05:37] \"POST /_dash-update-component HTTP/1.1\" 200 -\n"
     ]
    }
   ],
   "source": [
    "%run -i Dash_interactivity.py "
   ]
  }
 ],
 "metadata": {
  "kernelspec": {
   "display_name": "Python 3 (ipykernel)",
   "language": "python",
   "name": "python3"
  },
  "language_info": {
   "codemirror_mode": {
    "name": "ipython",
    "version": 3
   },
   "file_extension": ".py",
   "mimetype": "text/x-python",
   "name": "python",
   "nbconvert_exporter": "python",
   "pygments_lexer": "ipython3",
   "version": "3.9.15"
  }
 },
 "nbformat": 4,
 "nbformat_minor": 5
}
